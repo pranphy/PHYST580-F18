{
 "cells": [
  {
   "cell_type": "markdown",
   "metadata": {
    "slideshow": {
     "slide_type": "slide"
    }
   },
   "source": [
    "# Making a Histogram is Easy, Right?  Right?\n",
    "\n",
    "G Richards  (with thanks to A. Miller, Z. Ivezic, and J. Vanderplas from whom I have taken various ideas/code and cribbed this together)\n",
    "\n",
    "---\n"
   ]
  },
  {
   "cell_type": "markdown",
   "metadata": {
    "slideshow": {
     "slide_type": "slide"
    }
   },
   "source": [
    "We are going to spend much of the next 2 weeks going over some basic of statistics and not doing a whole lot of actual machine learning.  So today is about giving you a flavor of the kinds of things that we'll be doing later in the course."
   ]
  },
  {
   "cell_type": "code",
   "execution_count": 65,
   "metadata": {
    "slideshow": {
     "slide_type": "slide"
    }
   },
   "outputs": [],
   "source": [
    "# Execute this cell\n",
    "# This is just to get some things setup for later\n",
    "import numpy as np\n",
    "import matplotlib.pyplot as plt\n",
    "from scipy import stats\n",
    "%matplotlib inline"
   ]
  },
  {
   "cell_type": "markdown",
   "metadata": {
    "slideshow": {
     "slide_type": "slide"
    }
   },
   "source": [
    "You have some one-dimensional (\"univariate\") data that you would like to try to understand.  Where by \"understand\" we mean \"know the distribution in the measured space\", i.e., you want to know the probability distribution function (PDF).  The easiest way to do that is to make a histogram.  Simple, right?\n",
    "\n",
    "Let's work through some examples to see what problems we encounter and how we might overcome them."
   ]
  },
  {
   "cell_type": "code",
   "execution_count": 66,
   "metadata": {
    "slideshow": {
     "slide_type": "slide"
    }
   },
   "outputs": [],
   "source": [
    "# Execute this cell to generate a univariate data array, x\n",
    "# this is the same data used in Ivezic, Figure 6.5\n",
    "np.random.seed(0)\n",
    "N = 15\n",
    "mu_gamma_f = [(5, 1.0, 0.1),\n",
    "              (7, 0.5, 0.5),\n",
    "              (9, 0.1, 0.1),\n",
    "              (12, 0.5, 0.2),\n",
    "              (14, 1.0, 0.1)]\n",
    "true_pdf = lambda x: sum([f * stats.cauchy(mu, gamma).pdf(x)\n",
    "                          for (mu, gamma, f) in mu_gamma_f])\n",
    "x = np.concatenate([stats.cauchy(mu, gamma).rvs(int(f * N))\n",
    "                    for (mu, gamma, f) in mu_gamma_f])\n",
    "np.random.shuffle(x)\n",
    "x = x[x > -5]\n",
    "x = x[x < 25]"
   ]
  },
  {
   "cell_type": "markdown",
   "metadata": {
    "slideshow": {
     "slide_type": "slide"
    }
   },
   "source": [
    "Now let's take a first look at the data.  Use \n",
    "```python\n",
    "plt.hist()\n",
    "```\n",
    "where that function plots a histogram of any univariate data array given as an argument.  It takes lots of other arguments too.  See (http://matplotlib.org/api/pyplot_api.html?highlight=hist#matplotlib.pyplot.hist).  You might start with `histtype = \"step\"` so that we can later add information to the plot and still see the original histogram.  See what happens if you don't do this."
   ]
  },
  {
   "cell_type": "code",
   "execution_count": 67,
   "metadata": {
    "slideshow": {
     "slide_type": "slide"
    }
   },
   "outputs": [
    {
     "data": {
      "text/plain": [
       "(array([1., 2., 4., 1., 0., 1., 0., 2., 1., 1.]),\n",
       " array([ 5.15456568,  6.06081763,  6.96706957,  7.87332151,  8.77957346,\n",
       "         9.6858254 , 10.59207734, 11.49832929, 12.40458123, 13.31083317,\n",
       "        14.21708512]),\n",
       " <a list of 1 Patch objects>)"
      ]
     },
     "execution_count": 67,
     "metadata": {},
     "output_type": "execute_result"
    },
    {
     "data": {
      "image/png": "[encoded data removed]",
      "text/plain": [
       "<Figure size 432x288 with 1 Axes>"
      ]
     },
     "metadata": {
      "needs_background": "light"
     },
     "output_type": "display_data"
    }
   ],
   "source": [
    "plt.hist(x,histtype='step') #Complete"
   ]
  },
  {
   "cell_type": "markdown",
   "metadata": {
    "slideshow": {
     "slide_type": "slide"
    }
   },
   "source": [
    "How would you characterize this distribution?  Could we reasonably think of it as a normal distribution that we could characterize by some mean and standard deviation?  Maybe, but even just by looking at this plot we see that it wouldn't be a particularly good description of the data.\n",
    "\n",
    "Now do what we would typically do in astronomy: try re-plotting the histogram a couple of different ways to see if it reveals anything more about the data.  Try using only 5 bins `bins=5`, 20 bins `bins=20`, and with left-centered bins `align = \"left\"` instead of 10 `\"mid\"` centered bins (which is the default) "
   ]
  },
  {
   "cell_type": "code",
   "execution_count": 68,
   "metadata": {
    "slideshow": {
     "slide_type": "slide"
    }
   },
   "outputs": [
    {
     "data": {
      "image/png": "[encoded data removed]",
      "text/plain": [
       "<Figure size 432x288 with 1 Axes>"
      ]
     },
     "metadata": {
      "needs_background": "light"
     },
     "output_type": "display_data"
    }
   ],
   "source": [
    "__=plt.hist(x,bins=5,align='right',histtype='step') #Complete\n",
    "__=plt.hist(x,bins=20,histtype='step') #Complete\n",
    "__=plt.hist(x,align='mid',histtype='step') #Complete"
   ]
  },
  {
   "cell_type": "markdown",
   "metadata": {
    "slideshow": {
     "slide_type": "slide"
    }
   },
   "source": [
    "Note that the heights of these PDFs are all different!  That's because the y-axis only refers to the first histogram.  Try using `normed = True` so that the histograms are all normalized to 1.  "
   ]
  },
  {
   "cell_type": "code",
   "execution_count": 94,
   "metadata": {
    "slideshow": {
     "slide_type": "slide"
    }
   },
   "outputs": [
    {
     "data": {
      "image/png": "[encoded data removed]",
      "text/plain": [
       "<Figure size 432x288 with 1 Axes>"
      ]
     },
     "metadata": {
      "needs_background": "light"
     },
     "output_type": "display_data"
    }
   ],
   "source": [
    "__=plt.hist(x,bins=5,align='right',histtype='step',density=True) #Complete\n",
    "__=plt.hist(x,bins=20,histtype='step',density=True) #Complete\n",
    "__=plt.hist(x,align='mid',histtype='step',density=True)"
   ]
  },
  {
   "cell_type": "markdown",
   "metadata": {
    "slideshow": {
     "slide_type": "slide"
    }
   },
   "source": [
    "We find that small changes in parameters to the histogram function *significantly* change the PDF.  That's bad, because the underlying data clearly have **not** changed.\n",
    "\n",
    "One of the problems with histograms is that some bins end up with little (or no) data.  We can fix this by making variable-width bin sizes that have the same number of objects in each bin.  How can we do this?"
   ]
  },
  {
   "cell_type": "code",
   "execution_count": 70,
   "metadata": {
    "slideshow": {
     "slide_type": "slide"
    }
   },
   "outputs": [
    {
     "name": "stdout",
     "output_type": "stream",
     "text": [
      "[ 1.  2.  3.  4.  5.  6.  7.  8.  9. 10. 11. 12. 13. 14. 15. 16. 17. 18.\n",
      " 19. 20. 21. 22. 23. 24. 25. 26. 27. 28. 29. 30. 31. 32. 33. 34. 35. 36.\n",
      " 37. 38. 39. 40. 41. 42.]\n",
      "[ 1.  3.  5.  7.  9. 11. 13. 15. 17. 19. 21. 23. 25. 27. 29. 31. 33. 35.\n",
      " 37. 39. 41.]\n",
      "[ 1.  4.  7. 10. 13. 16. 19. 22. 25. 28. 31. 34. 37. 40.]\n"
     ]
    }
   ],
   "source": [
    "#Execute this cell\n",
    "a = np.linspace(1,42,num=42)\n",
    "print( a)\n",
    "print( a[::2])\n",
    "print( a[::3])"
   ]
  },
  {
   "cell_type": "markdown",
   "metadata": {
    "slideshow": {
     "slide_type": "slide"
    }
   },
   "source": [
    "If you are familiar with slicing, then you know that `[::2]` and `[::3]` say to count by 2 and count by 3.  But that isn't what they really do.  They say to take every other index of the array or every 3rd index of the array.  So, if your array is sorted (like `a` is), then you could use this to instead define the number of values in a bin.  That is for any given value of `M`\n",
    "\n",
    "    bins = np.append(np.sort(x)[::M], np.max(x))\n",
    "    \n",
    "would give bins with `M` objects in each bin.  \n",
    "\n",
    "So if `M=3` and \n",
    "\n",
    "    x = [1,3,5,7,9,11,13,21,29,35]\n",
    "    \n",
    "then \n",
    "    \n",
    "    bins = [1 7 13 35]\n",
    "\n",
    "Note that you need to add the maximum value to set the right edge of the last bin.  \n",
    "\n",
    "Try it for `M=100, 50, and 25`."
   ]
  },
  {
   "cell_type": "code",
   "execution_count": 71,
   "metadata": {
    "slideshow": {
     "slide_type": "slide"
    }
   },
   "outputs": [],
   "source": [
    "bins100 = np.append(np.sort(x)[::150], np.max(x)) #Complete\n",
    "bins50 = np.append(np.sort(x)[::50],np.max(x)) #Complete\n",
    "bins25 = np.append(np.sort(x)[::25],np.max(x)) #Complete"
   ]
  },
  {
   "cell_type": "code",
   "execution_count": 72,
   "metadata": {
    "slideshow": {
     "slide_type": "slide"
    }
   },
   "outputs": [
    {
     "data": {
      "image/png": "[encoded data removed]",
      "text/plain": [
       "<Figure size 432x288 with 1 Axes>"
      ]
     },
     "metadata": {
      "needs_background": "light"
     },
     "output_type": "display_data"
    }
   ],
   "source": [
    "__=plt.hist(x, bins=bins100, density=True, histtype=\"step\") #Complete\n",
    "__=plt.hist(x, bins=bins50, density=True, histtype=\"step\") #Complete\n",
    "__=plt.hist(x, bins=bins25, density=True, histtype=\"step\") #Complete"
   ]
  },
  {
   "cell_type": "markdown",
   "metadata": {
    "slideshow": {
     "slide_type": "slide"
    }
   },
   "source": [
    "Again, this can look pretty different depending on what the number of objects you choose as the minimum for each bin and compared to the plots above.  And it looks a lot different from the plots above.\n",
    "\n",
    "So, what is the \"right\" way to set the bin size?\n",
    "\n",
    "There is no \"right\" way, but we'll encounter some suggestions in Chapter 4.  Let's take a quick look at them now."
   ]
  },
  {
   "cell_type": "markdown",
   "metadata": {
    "slideshow": {
     "slide_type": "slide"
    }
   },
   "source": [
    "\"Scott's rule\" suggests that the optimal bin width is \n",
    "$$\\Delta_b = \\frac{3.5\\sigma}{N^{1/3}}.$$\n",
    "\n",
    "That's great, but what if we don't know the standard deviation, $\\sigma$ (e.g., if the distribution isn't really Gaussian)?  We can then instead used the \"Freedman-Diaconis rule\": \n",
    "$$\\Delta_b = \\frac{2(q_{75}-q_{25})}{N^{1/3}} = \\frac{2.7\\sigma_G}{N^{1/3}}.$$  \n",
    "Let's try that, where $\\sigma_G$ is 0.7413 times the difference between the upper and lower quartiles, which you can determine with `np.percentile()`."
   ]
  },
  {
   "cell_type": "code",
   "execution_count": 73,
   "metadata": {
    "slideshow": {
     "slide_type": "slide"
    }
   },
   "outputs": [
    {
     "name": "stdout",
     "output_type": "stream",
     "text": [
      "3.5117527803541426\n"
     ]
    }
   ],
   "source": [
    "#Or better yet\n",
    "q25,q75 = np.percentile(x,[25,75]) #Complete\n",
    "sigmaG = 0.7413*(q75-q25) #Complete\n",
    "print(sigmaG)"
   ]
  },
  {
   "cell_type": "markdown",
   "metadata": {
    "slideshow": {
     "slide_type": "slide"
    }
   },
   "source": [
    "Compare this to what you get using `stats.sigmaG()` from the astroML package.  You'll have to import stats from astroML and give it a different name since `stats` right now refers to `scipy.stats`."
   ]
  },
  {
   "cell_type": "code",
   "execution_count": 74,
   "metadata": {},
   "outputs": [
    {
     "name": "stdout",
     "output_type": "stream",
     "text": [
      "3.5117580352059004\n"
     ]
    }
   ],
   "source": [
    "from astroML import stats as astroMLstats\n",
    "sigmaG2 = astroMLstats.sigmaG(x)\n",
    "print(sigmaG2)"
   ]
  },
  {
   "cell_type": "markdown",
   "metadata": {
    "slideshow": {
     "slide_type": "slide"
    }
   },
   "source": [
    "Now set the bin size accordingly, using `np.arange()` and plot.  Make sure that you don't throw away the last object in data set!  How many bins do you get?  How does that compare to what we were using above?"
   ]
  },
  {
   "cell_type": "code",
   "execution_count": 75,
   "metadata": {
    "slideshow": {
     "slide_type": "slide"
    }
   },
   "outputs": [
    {
     "name": "stdout",
     "output_type": "stream",
     "text": [
      "3.844659911346046\n",
      "4\n",
      "[ 5.15456568  8.99922559 12.84388551 14.21708512]\n"
     ]
    }
   ],
   "source": [
    "binsize = 2.7*sigmaG2/(N**(1/3.)) #Complete\n",
    "print(binsize)\n",
    "bins = np.append(np.arange(start=x.min(),stop=x.max(),step=binsize),x.max()) #Complete\n",
    "print(len(bins))\n",
    "print(bins)"
   ]
  },
  {
   "cell_type": "code",
   "execution_count": 76,
   "metadata": {
    "slideshow": {
     "slide_type": "slide"
    }
   },
   "outputs": [
    {
     "name": "stderr",
     "output_type": "stream",
     "text": [
      "/usr/local/lib/python3.7/site-packages/matplotlib/axes/_axes.py:6571: UserWarning: The 'normed' kwarg is deprecated, and has been replaced by the 'density' kwarg.\n",
      "  warnings.warn(\"The 'normed' kwarg is deprecated, and has been \"\n"
     ]
    },
    {
     "data": {
      "text/plain": [
       "(array([0.16006217, 0.08003109, 0.0560174 ]),\n",
       " array([ 5.15456568,  8.99922559, 12.84388551, 14.21708512]),\n",
       " <a list of 1 Patch objects>)"
      ]
     },
     "execution_count": 76,
     "metadata": {},
     "output_type": "execute_result"
    },
    {
     "data": {
      "image/png": "[encoded data removed]",
      "text/plain": [
       "<Figure size 432x288 with 1 Axes>"
      ]
     },
     "metadata": {
      "needs_background": "light"
     },
     "output_type": "display_data"
    }
   ],
   "source": [
    "plt.hist(x,histtype='step',bins=bins,normed=True) #Complete   "
   ]
  },
  {
   "cell_type": "markdown",
   "metadata": {
    "slideshow": {
     "slide_type": "slide"
    }
   },
   "source": [
    "Did you find that tedious?  Me too.  Fortunately there is a shortcut!  Try it."
   ]
  },
  {
   "cell_type": "code",
   "execution_count": 77,
   "metadata": {
    "slideshow": {
     "slide_type": "slide"
    }
   },
   "outputs": [
    {
     "data": {
      "text/plain": [
       "(array([7., 2., 3., 1.]),\n",
       " array([ 5.15456568,  7.68206067, 10.20955566, 12.73705065, 15.26454565]),\n",
       " <a list of 1 Patch objects>)"
      ]
     },
     "execution_count": 77,
     "metadata": {},
     "output_type": "execute_result"
    },
    {
     "data": {
      "image/png": "[encoded data removed]",
      "text/plain": [
       "<Figure size 432x288 with 1 Axes>"
      ]
     },
     "metadata": {
      "needs_background": "light"
     },
     "output_type": "display_data"
    }
   ],
   "source": [
    "from astroML.plotting import hist as fancyhist\n",
    "fancyhist(x, bins=\"scott\", histtype=\"step\")\n",
    "fancyhist(x, bins=\"freedman\", histtype=\"step\")"
   ]
  },
  {
   "cell_type": "markdown",
   "metadata": {
    "slideshow": {
     "slide_type": "slide"
    }
   },
   "source": [
    "But note that even those don't yield quite the same results!  But we can do better!\n",
    "\n",
    "An obvious thing to do is to simply show all of the data."
   ]
  },
  {
   "cell_type": "code",
   "execution_count": 78,
   "metadata": {
    "slideshow": {
     "slide_type": "slide"
    }
   },
   "outputs": [
    {
     "data": {
      "text/plain": [
       "[<matplotlib.lines.Line2D at 0x7f7d4c625cf8>]"
      ]
     },
     "execution_count": 78,
     "metadata": {},
     "output_type": "execute_result"
    },
    {
     "data": {
      "image/png": "[encoded data removed]",
      "text/plain": [
       "<Figure size 432x288 with 1 Axes>"
      ]
     },
     "metadata": {
      "needs_background": "light"
     },
     "output_type": "display_data"
    }
   ],
   "source": [
    "# execute this cell\n",
    "plt.hist(x,histtype=\"step\")\n",
    "plt.plot(x, 0*x, '|', color='k', markersize=25) #Note markersize is (annoyingly) in *points*"
   ]
  },
  {
   "cell_type": "markdown",
   "metadata": {
    "slideshow": {
     "slide_type": "slide"
    }
   },
   "source": [
    "This is called a rug plot and now we have a better idea of where most of the data and where the gaps really are (as opposed to where the binning makes them *appear* to be).  However, the markers are all piled up, so we have lost all sense of the relative numbers of objects.  Are there ~10 at x=5 or could there be 100?\n",
    "\n",
    "This is where [Kernel Density Estimation](https://en.wikipedia.org/wiki/Kernel_density_estimation) (KDE) comes in.  (As a side note, KDE is the core of the quasar classification work that I do, which is how I got into this machine learning business in the first place.  Way before it was popular I might add!)  In short the idea here is to represent each data point not as a delta function, but rather as a distribution (e.g., a Gaussian).  Then those distributions (\"kernels\") are summed up to produce the PDF.  One of the advantages of this is that it combines the best of 1) the histogram and 2) the rug plot: where 1) tells us the relative height of the distribution and 2) centers the data points at the actual location of the data instead of within some arbitrary bin.\n",
    "\n",
    "Just about any distribution can be used as the kernel, but the most common are a Gaussian kernal and an Epanechnikov kernel.  One downside of the Gaussian kernel is that the tails are technically infinite in extent.  So each point has some finite probability of being *everywhere*.  The Epanechnikov kernel has truncated wings.  \n",
    "\n",
    "One still has the problem of deciding the width of the kernel (e.g., for the Gaussian the \"mean\" is fixed at the value of the point, but how wide should you make the Gaussian?).  For my work, we do this with a self-test of the data.  Specifically, what is the optimal width such that objects with a known classification are indeed given that classification by our machine learning algorithm.  But that is the topic for another day.  For now, we'll just play with the widths by hand to see what might work best.  N.B. the widths of the kernel distribution are referred to as \"bandwidth\"."
   ]
  },
  {
   "cell_type": "code",
   "execution_count": 79,
   "metadata": {
    "slideshow": {
     "slide_type": "slide"
    }
   },
   "outputs": [],
   "source": [
    "# execute this cell to load the KDE module\n",
    "# No need to try to understand what is going on here now, we'll come back to this later.\n",
    "# But see the note below\n",
    "from sklearn.neighbors import KernelDensity\n",
    "xplot = np.linspace(x.min(),x.max(),1000)  # Use this instead of 'x' for plotting\n",
    "def kde_sklearn(data, bandwidth = 1.0, kernel=\"linear\"):\n",
    "    kde_skl = KernelDensity(bandwidth = bandwidth, kernel=kernel)\n",
    "    kde_skl.fit(data[:, np.newaxis])\n",
    "    log_pdf = kde_skl.score_samples(xplot[:, np.newaxis]) # sklearn returns log(density)\n",
    "\n",
    "    return np.exp(log_pdf)"
   ]
  },
  {
   "cell_type": "markdown",
   "metadata": {
    "slideshow": {
     "slide_type": "slide"
    }
   },
   "source": [
    "Before we try the Gaussian and Epanechnikov kernels, let's first start with a tophat using `kernel = \"tophat\"`, which will produce a plot much like the rug plot.\n",
    "\n",
    "Start with `bandwidth=0.01`.  See what happens when you adjust this."
   ]
  },
  {
   "cell_type": "code",
   "execution_count": 80,
   "metadata": {},
   "outputs": [
    {
     "name": "stdout",
     "output_type": "stream",
     "text": [
      "[ 5.15456568  5.16363727  5.17270887  5.18178046  5.19085205  5.19992364\n",
      "  5.20899523  5.21806682  5.22713841  5.23621     5.24528159  5.25435318\n",
      "  5.26342478  5.27249637  5.28156796  5.29063955  5.29971114  5.30878273\n",
      "  5.31785432  5.32692591  5.3359975   5.34506909  5.35414069  5.36321228\n",
      "  5.37228387  5.38135546  5.39042705  5.39949864  5.40857023  5.41764182\n",
      "  5.42671341  5.43578501  5.4448566   5.45392819  5.46299978  5.47207137\n",
      "  5.48114296  5.49021455  5.49928614  5.50835773  5.51742932  5.52650092\n",
      "  5.53557251  5.5446441   5.55371569  5.56278728  5.57185887  5.58093046\n",
      "  5.59000205  5.59907364  5.60814523  5.61721683  5.62628842  5.63536001\n",
      "  5.6444316   5.65350319  5.66257478  5.67164637  5.68071796  5.68978955\n",
      "  5.69886114  5.70793274  5.71700433  5.72607592  5.73514751  5.7442191\n",
      "  5.75329069  5.76236228  5.77143387  5.78050546  5.78957706  5.79864865\n",
      "  5.80772024  5.81679183  5.82586342  5.83493501  5.8440066   5.85307819\n",
      "  5.86214978  5.87122137  5.88029297  5.88936456  5.89843615  5.90750774\n",
      "  5.91657933  5.92565092  5.93472251  5.9437941   5.95286569  5.96193728\n",
      "  5.97100888  5.98008047  5.98915206  5.99822365  6.00729524  6.01636683\n",
      "  6.02543842  6.03451001  6.0435816   6.05265319  6.06172479  6.07079638\n",
      "  6.07986797  6.08893956  6.09801115  6.10708274  6.11615433  6.12522592\n",
      "  6.13429751  6.1433691   6.1524407   6.16151229  6.17058388  6.17965547\n",
      "  6.18872706  6.19779865  6.20687024  6.21594183  6.22501342  6.23408502\n",
      "  6.24315661  6.2522282   6.26129979  6.27037138  6.27944297  6.28851456\n",
      "  6.29758615  6.30665774  6.31572933  6.32480093  6.33387252  6.34294411\n",
      "  6.3520157   6.36108729  6.37015888  6.37923047  6.38830206  6.39737365\n",
      "  6.40644524  6.41551684  6.42458843  6.43366002  6.44273161  6.4518032\n",
      "  6.46087479  6.46994638  6.47901797  6.48808956  6.49716115  6.50623275\n",
      "  6.51530434  6.52437593  6.53344752  6.54251911  6.5515907   6.56066229\n",
      "  6.56973388  6.57880547  6.58787707  6.59694866  6.60602025  6.61509184\n",
      "  6.62416343  6.63323502  6.64230661  6.6513782   6.66044979  6.66952138\n",
      "  6.67859298  6.68766457  6.69673616  6.70580775  6.71487934  6.72395093\n",
      "  6.73302252  6.74209411  6.7511657   6.76023729  6.76930889  6.77838048\n",
      "  6.78745207  6.79652366  6.80559525  6.81466684  6.82373843  6.83281002\n",
      "  6.84188161  6.8509532   6.8600248   6.86909639  6.87816798  6.88723957\n",
      "  6.89631116  6.90538275  6.91445434  6.92352593  6.93259752  6.94166911\n",
      "  6.95074071  6.9598123   6.96888389  6.97795548  6.98702707  6.99609866\n",
      "  7.00517025  7.01424184  7.02331343  7.03238503  7.04145662  7.05052821\n",
      "  7.0595998   7.06867139  7.07774298  7.08681457  7.09588616  7.10495775\n",
      "  7.11402934  7.12310094  7.13217253  7.14124412  7.15031571  7.1593873\n",
      "  7.16845889  7.17753048  7.18660207  7.19567366  7.20474525  7.21381685\n",
      "  7.22288844  7.23196003  7.24103162  7.25010321  7.2591748   7.26824639\n",
      "  7.27731798  7.28638957  7.29546116  7.30453276  7.31360435  7.32267594\n",
      "  7.33174753  7.34081912  7.34989071  7.3589623   7.36803389  7.37710548\n",
      "  7.38617708  7.39524867  7.40432026  7.41339185  7.42246344  7.43153503\n",
      "  7.44060662  7.44967821  7.4587498   7.46782139  7.47689299  7.48596458\n",
      "  7.49503617  7.50410776  7.51317935  7.52225094  7.53132253  7.54039412\n",
      "  7.54946571  7.5585373   7.5676089   7.57668049  7.58575208  7.59482367\n",
      "  7.60389526  7.61296685  7.62203844  7.63111003  7.64018162  7.64925321\n",
      "  7.65832481  7.6673964   7.67646799  7.68553958  7.69461117  7.70368276\n",
      "  7.71275435  7.72182594  7.73089753  7.73996912  7.74904072  7.75811231\n",
      "  7.7671839   7.77625549  7.78532708  7.79439867  7.80347026  7.81254185\n",
      "  7.82161344  7.83068504  7.83975663  7.84882822  7.85789981  7.8669714\n",
      "  7.87604299  7.88511458  7.89418617  7.90325776  7.91232935  7.92140095\n",
      "  7.93047254  7.93954413  7.94861572  7.95768731  7.9667589   7.97583049\n",
      "  7.98490208  7.99397367  8.00304526  8.01211686  8.02118845  8.03026004\n",
      "  8.03933163  8.04840322  8.05747481  8.0665464   8.07561799  8.08468958\n",
      "  8.09376117  8.10283277  8.11190436  8.12097595  8.13004754  8.13911913\n",
      "  8.14819072  8.15726231  8.1663339   8.17540549  8.18447709  8.19354868\n",
      "  8.20262027  8.21169186  8.22076345  8.22983504  8.23890663  8.24797822\n",
      "  8.25704981  8.2661214   8.275193    8.28426459  8.29333618  8.30240777\n",
      "  8.31147936  8.32055095  8.32962254  8.33869413  8.34776572  8.35683731\n",
      "  8.36590891  8.3749805   8.38405209  8.39312368  8.40219527  8.41126686\n",
      "  8.42033845  8.42941004  8.43848163  8.44755322  8.45662482  8.46569641\n",
      "  8.474768    8.48383959  8.49291118  8.50198277  8.51105436  8.52012595\n",
      "  8.52919754  8.53826914  8.54734073  8.55641232  8.56548391  8.5745555\n",
      "  8.58362709  8.59269868  8.60177027  8.61084186  8.61991345  8.62898505\n",
      "  8.63805664  8.64712823  8.65619982  8.66527141  8.674343    8.68341459\n",
      "  8.69248618  8.70155777  8.71062936  8.71970096  8.72877255  8.73784414\n",
      "  8.74691573  8.75598732  8.76505891  8.7741305   8.78320209  8.79227368\n",
      "  8.80134527  8.81041687  8.81948846  8.82856005  8.83763164  8.84670323\n",
      "  8.85577482  8.86484641  8.873918    8.88298959  8.89206118  8.90113278\n",
      "  8.91020437  8.91927596  8.92834755  8.93741914  8.94649073  8.95556232\n",
      "  8.96463391  8.9737055   8.9827771   8.99184869  9.00092028  9.00999187\n",
      "  9.01906346  9.02813505  9.03720664  9.04627823  9.05534982  9.06442141\n",
      "  9.07349301  9.0825646   9.09163619  9.10070778  9.10977937  9.11885096\n",
      "  9.12792255  9.13699414  9.14606573  9.15513732  9.16420892  9.17328051\n",
      "  9.1823521   9.19142369  9.20049528  9.20956687  9.21863846  9.22771005\n",
      "  9.23678164  9.24585323  9.25492483  9.26399642  9.27306801  9.2821396\n",
      "  9.29121119  9.30028278  9.30935437  9.31842596  9.32749755  9.33656915\n",
      "  9.34564074  9.35471233  9.36378392  9.37285551  9.3819271   9.39099869\n",
      "  9.40007028  9.40914187  9.41821346  9.42728506  9.43635665  9.44542824\n",
      "  9.45449983  9.46357142  9.47264301  9.4817146   9.49078619  9.49985778\n",
      "  9.50892937  9.51800097  9.52707256  9.53614415  9.54521574  9.55428733\n",
      "  9.56335892  9.57243051  9.5815021   9.59057369  9.59964528  9.60871688\n",
      "  9.61778847  9.62686006  9.63593165  9.64500324  9.65407483  9.66314642\n",
      "  9.67221801  9.6812896   9.69036119  9.69943279  9.70850438  9.71757597\n",
      "  9.72664756  9.73571915  9.74479074  9.75386233  9.76293392  9.77200551\n",
      "  9.78107711  9.7901487   9.79922029  9.80829188  9.81736347  9.82643506\n",
      "  9.83550665  9.84457824  9.85364983  9.86272142  9.87179302  9.88086461\n",
      "  9.8899362   9.89900779  9.90807938  9.91715097  9.92622256  9.93529415\n",
      "  9.94436574  9.95343733  9.96250893  9.97158052  9.98065211  9.9897237\n",
      "  9.99879529 10.00786688 10.01693847 10.02601006 10.03508165 10.04415324\n",
      " 10.05322484 10.06229643 10.07136802 10.08043961 10.0895112  10.09858279\n",
      " 10.10765438 10.11672597 10.12579756 10.13486916 10.14394075 10.15301234\n",
      " 10.16208393 10.17115552 10.18022711 10.1892987  10.19837029 10.20744188\n",
      " 10.21651347 10.22558507 10.23465666 10.24372825 10.25279984 10.26187143\n",
      " 10.27094302 10.28001461 10.2890862  10.29815779 10.30722938 10.31630098\n",
      " 10.32537257 10.33444416 10.34351575 10.35258734 10.36165893 10.37073052\n",
      " 10.37980211 10.3888737  10.39794529 10.40701689 10.41608848 10.42516007\n",
      " 10.43423166 10.44330325 10.45237484 10.46144643 10.47051802 10.47958961\n",
      " 10.4886612  10.4977328  10.50680439 10.51587598 10.52494757 10.53401916\n",
      " 10.54309075 10.55216234 10.56123393 10.57030552 10.57937712 10.58844871\n",
      " 10.5975203  10.60659189 10.61566348 10.62473507 10.63380666 10.64287825\n",
      " 10.65194984 10.66102143 10.67009303 10.67916462 10.68823621 10.6973078\n",
      " 10.70637939 10.71545098 10.72452257 10.73359416 10.74266575 10.75173734\n",
      " 10.76080894 10.76988053 10.77895212 10.78802371 10.7970953  10.80616689\n",
      " 10.81523848 10.82431007 10.83338166 10.84245325 10.85152485 10.86059644\n",
      " 10.86966803 10.87873962 10.88781121 10.8968828  10.90595439 10.91502598\n",
      " 10.92409757 10.93316917 10.94224076 10.95131235 10.96038394 10.96945553\n",
      " 10.97852712 10.98759871 10.9966703  11.00574189 11.01481348 11.02388508\n",
      " 11.03295667 11.04202826 11.05109985 11.06017144 11.06924303 11.07831462\n",
      " 11.08738621 11.0964578  11.10552939 11.11460099 11.12367258 11.13274417\n",
      " 11.14181576 11.15088735 11.15995894 11.16903053 11.17810212 11.18717371\n",
      " 11.1962453  11.2053169  11.21438849 11.22346008 11.23253167 11.24160326\n",
      " 11.25067485 11.25974644 11.26881803 11.27788962 11.28696121 11.29603281\n",
      " 11.3051044  11.31417599 11.32324758 11.33231917 11.34139076 11.35046235\n",
      " 11.35953394 11.36860553 11.37767713 11.38674872 11.39582031 11.4048919\n",
      " 11.41396349 11.42303508 11.43210667 11.44117826 11.45024985 11.45932144\n",
      " 11.46839304 11.47746463 11.48653622 11.49560781 11.5046794  11.51375099\n",
      " 11.52282258 11.53189417 11.54096576 11.55003735 11.55910895 11.56818054\n",
      " 11.57725213 11.58632372 11.59539531 11.6044669  11.61353849 11.62261008\n",
      " 11.63168167 11.64075326 11.64982486 11.65889645 11.66796804 11.67703963\n",
      " 11.68611122 11.69518281 11.7042544  11.71332599 11.72239758 11.73146918\n",
      " 11.74054077 11.74961236 11.75868395 11.76775554 11.77682713 11.78589872\n",
      " 11.79497031 11.8040419  11.81311349 11.82218509 11.83125668 11.84032827\n",
      " 11.84939986 11.85847145 11.86754304 11.87661463 11.88568622 11.89475781\n",
      " 11.9038294  11.912901   11.92197259 11.93104418 11.94011577 11.94918736\n",
      " 11.95825895 11.96733054 11.97640213 11.98547372 11.99454531 12.00361691\n",
      " 12.0126885  12.02176009 12.03083168 12.03990327 12.04897486 12.05804645\n",
      " 12.06711804 12.07618963 12.08526123 12.09433282 12.10340441 12.112476\n",
      " 12.12154759 12.13061918 12.13969077 12.14876236 12.15783395 12.16690554\n",
      " 12.17597714 12.18504873 12.19412032 12.20319191 12.2122635  12.22133509\n",
      " 12.23040668 12.23947827 12.24854986 12.25762145 12.26669305 12.27576464\n",
      " 12.28483623 12.29390782 12.30297941 12.312051   12.32112259 12.33019418\n",
      " 12.33926577 12.34833736 12.35740896 12.36648055 12.37555214 12.38462373\n",
      " 12.39369532 12.40276691 12.4118385  12.42091009 12.42998168 12.43905327\n",
      " 12.44812487 12.45719646 12.46626805 12.47533964 12.48441123 12.49348282\n",
      " 12.50255441 12.511626   12.52069759 12.52976919 12.53884078 12.54791237\n",
      " 12.55698396 12.56605555 12.57512714 12.58419873 12.59327032 12.60234191\n",
      " 12.6114135  12.6204851  12.62955669 12.63862828 12.64769987 12.65677146\n",
      " 12.66584305 12.67491464 12.68398623 12.69305782 12.70212941 12.71120101\n",
      " 12.7202726  12.72934419 12.73841578 12.74748737 12.75655896 12.76563055\n",
      " 12.77470214 12.78377373 12.79284532 12.80191692 12.81098851 12.8200601\n",
      " 12.82913169 12.83820328 12.84727487 12.85634646 12.86541805 12.87448964\n",
      " 12.88356124 12.89263283 12.90170442 12.91077601 12.9198476  12.92891919\n",
      " 12.93799078 12.94706237 12.95613396 12.96520555 12.97427715 12.98334874\n",
      " 12.99242033 13.00149192 13.01056351 13.0196351  13.02870669 13.03777828\n",
      " 13.04684987 13.05592146 13.06499306 13.07406465 13.08313624 13.09220783\n",
      " 13.10127942 13.11035101 13.1194226  13.12849419 13.13756578 13.14663737\n",
      " 13.15570897 13.16478056 13.17385215 13.18292374 13.19199533 13.20106692\n",
      " 13.21013851 13.2192101  13.22828169 13.23735328 13.24642488 13.25549647\n",
      " 13.26456806 13.27363965 13.28271124 13.29178283 13.30085442 13.30992601\n",
      " 13.3189976  13.3280692  13.33714079 13.34621238 13.35528397 13.36435556\n",
      " 13.37342715 13.38249874 13.39157033 13.40064192 13.40971351 13.41878511\n",
      " 13.4278567  13.43692829 13.44599988 13.45507147 13.46414306 13.47321465\n",
      " 13.48228624 13.49135783 13.50042942 13.50950102 13.51857261 13.5276442\n",
      " 13.53671579 13.54578738 13.55485897 13.56393056 13.57300215 13.58207374\n",
      " 13.59114533 13.60021693 13.60928852 13.61836011 13.6274317  13.63650329\n",
      " 13.64557488 13.65464647 13.66371806 13.67278965 13.68186125 13.69093284\n",
      " 13.70000443 13.70907602 13.71814761 13.7272192  13.73629079 13.74536238\n",
      " 13.75443397 13.76350556 13.77257716 13.78164875 13.79072034 13.79979193\n",
      " 13.80886352 13.81793511 13.8270067  13.83607829 13.84514988 13.85422147\n",
      " 13.86329307 13.87236466 13.88143625 13.89050784 13.89957943 13.90865102\n",
      " 13.91772261 13.9267942  13.93586579 13.94493738 13.95400898 13.96308057\n",
      " 13.97215216 13.98122375 13.99029534 13.99936693 14.00843852 14.01751011\n",
      " 14.0265817  14.03565329 14.04472489 14.05379648 14.06286807 14.07193966\n",
      " 14.08101125 14.09008284 14.09915443 14.10822602 14.11729761 14.12636921\n",
      " 14.1354408  14.14451239 14.15358398 14.16265557 14.17172716 14.18079875\n",
      " 14.18987034 14.19894193 14.20801352 14.21708512]\n"
     ]
    }
   ],
   "source": [
    "print(xplot)"
   ]
  },
  {
   "cell_type": "code",
   "execution_count": 81,
   "metadata": {
    "slideshow": {
     "slide_type": "slide"
    }
   },
   "outputs": [
    {
     "data": {
      "text/plain": [
       "[<matplotlib.lines.Line2D at 0x7f7d4c5c4a58>]"
      ]
     },
     "execution_count": 81,
     "metadata": {},
     "output_type": "execute_result"
    },
    {
     "data": {
      "image/png": "[encoded data removed]",
      "text/plain": [
       "<Figure size 432x288 with 1 Axes>"
      ]
     },
     "metadata": {
      "needs_background": "light"
     },
     "output_type": "display_data"
    }
   ],
   "source": [
    "PDFtophat = kde_sklearn(x,bandwidth=0.01,kernel='tophat') #Complete\n",
    "plt.plot(xplot,PDFtophat) #Complete"
   ]
  },
  {
   "cell_type": "markdown",
   "metadata": {
    "slideshow": {
     "slide_type": "slide"
    }
   },
   "source": [
    "The defaults give a result that is essentially what you would get if you made a histogram with a really large number of bins.\n",
    "\n",
    "Now let's compare what happens when we adjust the bandwidth (which is just the width of the kernel function).  Try \n",
    "`bandwidth=0.1` and `bandwidth=0.5`."
   ]
  },
  {
   "cell_type": "code",
   "execution_count": 82,
   "metadata": {
    "slideshow": {
     "slide_type": "slide"
    }
   },
   "outputs": [
    {
     "data": {
      "text/plain": [
       "<matplotlib.legend.Legend at 0x7f7d4c56ba20>"
      ]
     },
     "execution_count": 82,
     "metadata": {},
     "output_type": "execute_result"
    },
    {
     "data": {
      "image/png": "[encoded data removed]",
      "text/plain": [
       "<Figure size 432x288 with 1 Axes>"
      ]
     },
     "metadata": {
      "needs_background": "light"
     },
     "output_type": "display_data"
    }
   ],
   "source": [
    "PDFtophat1 = kde_sklearn(x,bandwidth=0.1,kernel='tophat') #Complete\n",
    "plt.plot(xplot,PDFtophat1,label='width={}'.format(0.1)) #Complete\n",
    "\n",
    "\n",
    "PDFtophat1 = kde_sklearn(x,bandwidth=0.5,kernel='tophat') #Complete\n",
    "plt.plot(xplot,PDFtophat1,label='width={}'.format(0.5)) #Complete\n",
    "\n",
    "    \n",
    "plt.legend(loc=\"upper left\")"
   ]
  },
  {
   "cell_type": "markdown",
   "metadata": {
    "slideshow": {
     "slide_type": "slide"
    }
   },
   "source": [
    "Now let's see what we get with the Gaussian `kernel=\"gaussian\"` and Epanechnikov `kernel=\"epanechnikov\"` kernels.  Play with the bandwidths until you get something that looks reasonable (and roughly matches) for the two kernels.  They need not be the same."
   ]
  },
  {
   "cell_type": "code",
   "execution_count": 93,
   "metadata": {
    "slideshow": {
     "slide_type": "slide"
    }
   },
   "outputs": [
    {
     "data": {
      "text/plain": [
       "<matplotlib.legend.Legend at 0x7f7d4c3d5ba8>"
      ]
     },
     "execution_count": 93,
     "metadata": {},
     "output_type": "execute_result"
    },
    {
     "data": {
      "image/png": "[encoded data removed]",
      "text/plain": [
       "<Figure size 1440x720 with 1 Axes>"
      ]
     },
     "metadata": {
      "needs_background": "light"
     },
     "output_type": "display_data"
    }
   ],
   "source": [
    "plt.figure(figsize=(20,10))\n",
    "PDFgaussian = kde_sklearn(x,bandwidth=.1,kernel=\"gaussian\") #Complete \n",
    "PDFepanechnikov = kde_sklearn(x,bandwidth=0.1,kernel='epanechnikov') #Complete plt.plot(xplot,PDFgaussian,label=\"gaussian width=1\") #Complete\n",
    "plt.plot(xplot,PDFepanechnikov,label=\"epanechnikov width=.2\") #Complete\n",
    "plt.xlim((4,16))\n",
    "plt.legend(loc='upper right') #Complete"
   ]
  },
  {
   "cell_type": "markdown",
   "metadata": {
    "slideshow": {
     "slide_type": "slide"
    }
   },
   "source": [
    "This is pretty different from the histogram that we started out with, isn't it?"
   ]
  },
  {
   "cell_type": "markdown",
   "metadata": {
    "slideshow": {
     "slide_type": "slide"
    }
   },
   "source": [
    "Lastly, we have used 1000 points, so you aren't seeing the kernel shape for the individual points.  Try remaking $x$ with only `N=15` points and see what this looks like.  Adjust the figure size (using `figsize`), the bandwidth and the axis limits until you can see the differences between the two kernels.  Play with the bandwidths to see what affect they have now that you can see the individual kernels."
   ]
  },
  {
   "cell_type": "code",
   "execution_count": 84,
   "metadata": {
    "slideshow": {
     "slide_type": "slide"
    }
   },
   "outputs": [],
   "source": [
    "#Redefine \"x\" using the code from the cell above and N=15"
   ]
  },
  {
   "cell_type": "code",
   "execution_count": 85,
   "metadata": {
    "slideshow": {
     "slide_type": "slide"
    }
   },
   "outputs": [
    {
     "ename": "NameError",
     "evalue": "name '____' is not defined",
     "output_type": "error",
     "traceback": [
      "\u001b[0;31m---------------------------------------------------------------------------\u001b[0m",
      "\u001b[0;31mNameError\u001b[0m                                 Traceback (most recent call last)",
      "\u001b[0;32m<ipython-input-85-db45e29f270c>\u001b[0m in \u001b[0;36m<module>\u001b[0;34m()\u001b[0m\n\u001b[1;32m      1\u001b[0m \u001b[0;31m#Make a plot that illustrates the shape of the kernel\u001b[0m\u001b[0;34m\u001b[0m\u001b[0;34m\u001b[0m\u001b[0m\n\u001b[0;32m----> 2\u001b[0;31m \u001b[0mplt\u001b[0m\u001b[0;34m.\u001b[0m\u001b[0mfigure\u001b[0m\u001b[0;34m(\u001b[0m\u001b[0mfigsize\u001b[0m\u001b[0;34m=\u001b[0m\u001b[0;34m(\u001b[0m\u001b[0m____\u001b[0m\u001b[0;34m,\u001b[0m\u001b[0m____\u001b[0m\u001b[0;34m)\u001b[0m\u001b[0;34m)\u001b[0m \u001b[0;31m#Complete\u001b[0m\u001b[0;34m\u001b[0m\u001b[0m\n\u001b[0m\u001b[1;32m      3\u001b[0m \u001b[0mPDFgaussian\u001b[0m \u001b[0;34m=\u001b[0m \u001b[0mkde_sklearn\u001b[0m\u001b[0;34m(\u001b[0m\u001b[0m_____\u001b[0m\u001b[0;34m,\u001b[0m\u001b[0m_____\u001b[0m\u001b[0;34m,\u001b[0m\u001b[0m_____\u001b[0m\u001b[0;34m)\u001b[0m \u001b[0;31m#Complete\u001b[0m\u001b[0;34m\u001b[0m\u001b[0m\n\u001b[1;32m      4\u001b[0m \u001b[0mPDFepanechnikov\u001b[0m \u001b[0;34m=\u001b[0m \u001b[0m____\u001b[0m\u001b[0;34m(\u001b[0m\u001b[0m_____\u001b[0m\u001b[0;34m,\u001b[0m\u001b[0m_____\u001b[0m\u001b[0;34m,\u001b[0m\u001b[0m_____\u001b[0m\u001b[0;34m)\u001b[0m \u001b[0;31m#Complete\u001b[0m\u001b[0;34m\u001b[0m\u001b[0m\n\u001b[1;32m      5\u001b[0m \u001b[0mplt\u001b[0m\u001b[0;34m.\u001b[0m\u001b[0mplot\u001b[0m\u001b[0;34m(\u001b[0m\u001b[0mxplot\u001b[0m\u001b[0;34m,\u001b[0m\u001b[0mPDFgaussian\u001b[0m\u001b[0;34m,\u001b[0m\u001b[0mlabel\u001b[0m\u001b[0;34m=\u001b[0m\u001b[0;34m\"___\"\u001b[0m\u001b[0;34m)\u001b[0m \u001b[0;31m#Complete\u001b[0m\u001b[0;34m\u001b[0m\u001b[0m\n",
      "\u001b[0;31mNameError\u001b[0m: name '____' is not defined"
     ]
    }
   ],
   "source": [
    "#Make a plot that illustrates the shape of the kernel\n",
    "plt.figure(figsize=(____,____)) #Complete\n",
    "PDFgaussian = kde_sklearn(_____,_____,_____) #Complete\n",
    "PDFepanechnikov = ____(_____,_____,_____) #Complete\n",
    "plt.plot(xplot,PDFgaussian,label=\"___\") #Complete\n",
    "plt.plot(____,____,____) #Complete\n",
    "plt.legend(____) #Complete\n",
    "plt.xlim((____,____)) #Complete"
   ]
  }
 ],
 "metadata": {
  "anaconda-cloud": {},
  "celltoolbar": "Slideshow",
  "kernelspec": {
   "display_name": "Python 3",
   "language": "python",
   "name": "python3"
  },
  "language_info": {
   "codemirror_mode": {
    "name": "ipython",
    "version": 3
   },
   "file_extension": ".py",
   "mimetype": "text/x-python",
   "name": "python",
   "nbconvert_exporter": "python",
   "pygments_lexer": "ipython3",
   "version": "3.7.0"
  }
 },
 "nbformat": 4,
 "nbformat_minor": 1
}
