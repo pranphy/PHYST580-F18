{
 "cells": [
  {
   "cell_type": "markdown",
   "metadata": {
    "slideshow": {
     "slide_type": "slide"
    }
   },
   "source": [
    "# Making a Histogram is Easy, Right?  Right?\n",
    "\n",
    "G Richards  (with thanks to A. Miller, Z. Ivezic, and J. Vanderplas from whom I have taken various ideas/code and cribbed this together)\n",
    "\n",
    "---\n"
   ]
  },
  {
   "cell_type": "markdown",
   "metadata": {
    "slideshow": {
     "slide_type": "slide"
    }
   },
   "source": [
    "We are going to spend much of the next 2 weeks going over some basic of statistics and not doing a whole lot of actual machine learning.  So today is about giving you a flavor of the kinds of things that we'll be doing later in the course."
   ]
  },
  {
   "cell_type": "code",
   "execution_count": 1,
   "metadata": {
    "slideshow": {
     "slide_type": "slide"
    }
   },
   "outputs": [],
   "source": [
    "# Execute this cell\n",
    "# This is just to get some things setup for later\n",
    "import numpy as np\n",
    "import matplotlib.pyplot as plt\n",
    "from scipy import stats\n",
    "%matplotlib inline"
   ]
  },
  {
   "cell_type": "markdown",
   "metadata": {
    "slideshow": {
     "slide_type": "slide"
    }
   },
   "source": [
    "You have some one-dimensional (\"univariate\") data that you would like to try to understand.  Where by \"understand\" we mean \"know the distribution in the measured space\", i.e., you want to know the probability distribution function (PDF).  The easiest way to do that is to make a histogram.  Simple, right?\n",
    "\n",
    "Let's work through some examples to see what problems we encounter and how we might overcome them."
   ]
  },
  {
   "cell_type": "code",
   "execution_count": 27,
   "metadata": {
    "slideshow": {
     "slide_type": "slide"
    }
   },
   "outputs": [],
   "source": [
    "# Execute this cell to generate a univariate data array, x\n",
    "# this is the same data used in Ivezic, Figure 6.5\n",
    "np.random.seed(0)\n",
    "N = 20 \n",
    "mu_gamma_f = [(5, 1.0, 0.1),\n",
    "              (7, 0.5, 0.5),\n",
    "              (9, 0.1, 0.1),\n",
    "              (12, 0.5, 0.2),\n",
    "              (14, 1.0, 0.1)]\n",
    "true_pdf = lambda x: sum([f * stats.cauchy(mu, gamma).pdf(x)\n",
    "                          for (mu, gamma, f) in mu_gamma_f])\n",
    "x = np.concatenate([stats.cauchy(mu, gamma).rvs(int(f * N))\n",
    "                    for (mu, gamma, f) in mu_gamma_f])\n",
    "\n",
    "np.random.shuffle(x)\n",
    "x = x[x > -5]\n",
    "x = x[x < 25]"
   ]
  },
  {
   "cell_type": "code",
   "execution_count": 28,
   "metadata": {},
   "outputs": [
    {
     "name": "stdout",
     "output_type": "stream",
     "text": [
      "[ 9.41999651  7.04551312  7.65186016  7.24669141  7.16727251 11.36089771\n",
      "  6.90068622 16.31110564 10.21919792  6.87772351  4.13880094  9.02170851\n",
      "  6.80826293  5.80212829  5.15456568  8.41345686  9.79683741 12.86155976\n",
      "  7.07097334 15.19463922]\n"
     ]
    }
   ],
   "source": [
    "print(x)"
   ]
  },
  {
   "cell_type": "markdown",
   "metadata": {
    "slideshow": {
     "slide_type": "slide"
    }
   },
   "source": [
    "Now let's take a first look at the data.  Use \n",
    "```python\n",
    "plt.hist()\n",
    "```\n",
    "where that function plots a histogram of any univariate data array given as an argument.  It takes lots of other arguments too.  See (http://matplotlib.org/api/pyplot_api.html?highlight=hist#matplotlib.pyplot.hist).  You might start with `histtype = \"step\"` so that we can later add information to the plot and still see the original histogram.  See what happens if you don't do this."
   ]
  },
  {
   "cell_type": "code",
   "execution_count": 29,
   "metadata": {
    "slideshow": {
     "slide_type": "slide"
    }
   },
   "outputs": [
    {
     "data": {
      "text/plain": [
       "(array([2., 1., 8., 1., 4., 1., 0., 1., 0., 2.]),\n",
       " array([ 4.13880094,  5.35603141,  6.57326188,  7.79049235,  9.00772282,\n",
       "        10.22495329, 11.44218376, 12.65941423, 13.8766447 , 15.09387517,\n",
       "        16.31110564]),\n",
       " <a list of 1 Patch objects>)"
      ]
     },
     "execution_count": 29,
     "metadata": {},
     "output_type": "execute_result"
    },
    {
     "data": {
      "image/png": "[encoded data removed]",
      "text/plain": [
       "<Figure size 432x288 with 1 Axes>"
      ]
     },
     "metadata": {
      "needs_background": "light"
     },
     "output_type": "display_data"
    }
   ],
   "source": [
    "plt.hist(x,histtype='step') #Complete"
   ]
  },
  {
   "cell_type": "markdown",
   "metadata": {
    "slideshow": {
     "slide_type": "slide"
    }
   },
   "source": [
    "How would you characterize this distribution?  Could we reasonably think of it as a normal distribution that we could characterize by some mean and standard deviation?  Maybe, but even just by looking at this plot we see that it wouldn't be a particularly good description of the data.\n",
    "\n",
    "Now do what we would typically do in astronomy: try re-plotting the histogram a couple of different ways to see if it reveals anything more about the data.  Try using only 5 bins `bins=5`, 20 bins `bins=20`, and with left-centered bins `align = \"left\"` instead of 10 `\"mid\"` centered bins (which is the default) "
   ]
  },
  {
   "cell_type": "code",
   "execution_count": 30,
   "metadata": {
    "slideshow": {
     "slide_type": "slide"
    }
   },
   "outputs": [
    {
     "data": {
      "image/png": "[encoded data removed]",
      "text/plain": [
       "<Figure size 432x288 with 1 Axes>"
      ]
     },
     "metadata": {
      "needs_background": "light"
     },
     "output_type": "display_data"
    }
   ],
   "source": [
    "__=plt.hist(x,bins=5,align='right',histtype='step') #Complete\n",
    "__=plt.hist(x,bins=20,histtype='step') #Complete\n",
    "__=plt.hist(x,align='mid',histtype='step') #Complete"
   ]
  },
  {
   "cell_type": "markdown",
   "metadata": {
    "slideshow": {
     "slide_type": "slide"
    }
   },
   "source": [
    "Note that the heights of these PDFs are all different!  That's because the y-axis only refers to the first histogram.  Try using `normed = True` so that the histograms are all normalized to 1.  "
   ]
  },
  {
   "cell_type": "code",
   "execution_count": 31,
   "metadata": {
    "slideshow": {
     "slide_type": "slide"
    }
   },
   "outputs": [
    {
     "data": {
      "image/png": "[encoded data removed]",
      "text/plain": [
       "<Figure size 432x288 with 1 Axes>"
      ]
     },
     "metadata": {
      "needs_background": "light"
     },
     "output_type": "display_data"
    }
   ],
   "source": [
    "__=plt.hist(x,bins=5,align='right',histtype='step',density=True) #Complete\n",
    "__=plt.hist(x,bins=20,histtype='step',density=True) #Complete\n",
    "__=plt.hist(x,align='mid',histtype='step',density=True)"
   ]
  },
  {
   "cell_type": "markdown",
   "metadata": {
    "slideshow": {
     "slide_type": "slide"
    }
   },
   "source": [
    "We find that small changes in parameters to the histogram function *significantly* change the PDF.  That's bad, because the underlying data clearly have **not** changed.\n",
    "\n",
    "One of the problems with histograms is that some bins end up with little (or no) data.  We can fix this by making variable-width bin sizes that have the same number of objects in each bin.  How can we do this?"
   ]
  },
  {
   "cell_type": "code",
   "execution_count": null,
   "metadata": {
    "slideshow": {
     "slide_type": "slide"
    }
   },
   "outputs": [],
   "source": [
    "#Execute this cell\n",
    "a = np.linspace(1,42,num=42)\n",
    "print( a)\n",
    "print( a[::2])\n",
    "print( a[::3])"
   ]
  },
  {
   "cell_type": "code",
   "execution_count": null,
   "metadata": {},
   "outputs": [],
   "source": [
    "np.append([1,2,3],5)"
   ]
  },
  {
   "cell_type": "markdown",
   "metadata": {
    "slideshow": {
     "slide_type": "slide"
    }
   },
   "source": [
    "If you are familiar with slicing, then you know that `[::2]` and `[::3]` say to count by 2 and count by 3.  But that isn't what they really do.  They say to take every other index of the array or every 3rd index of the array.  So, if your array is sorted (like `a` is), then you could use this to instead define the number of values in a bin.  That is for any given value of `M`\n",
    "\n",
    "    bins = np.append(np.sort(x)[::M], np.max(x))\n",
    "    \n",
    "would give bins with `M` objects in each bin.  \n",
    "\n",
    "So if `M=3` and \n",
    "\n",
    "    x = [1,3,5,7,9,11,13,21,29,35]\n",
    "    \n",
    "then \n",
    "    \n",
    "    bins = [1 7 13 35]\n",
    "\n",
    "Note that you need to add the maximum value to set the right edge of the last bin.  \n",
    "\n",
    "Try it for `M=100, 50, and 25`."
   ]
  },
  {
   "cell_type": "code",
   "execution_count": 32,
   "metadata": {},
   "outputs": [
    {
     "name": "stdout",
     "output_type": "stream",
     "text": [
      "[ 4.13880094  5.15456568  5.80212829  6.80826293  6.87772351  6.90068622\n",
      "  7.04551312  7.07097334  7.16727251  7.24669141  7.65186016  8.41345686\n",
      "  9.02170851  9.41999651  9.79683741 10.21919792 11.36089771 12.86155976\n",
      " 15.19463922 16.31110564]\n"
     ]
    },
    {
     "data": {
      "text/plain": [
       "array([ 4.13880094,  5.80212829,  6.87772351,  7.04551312,  7.16727251,\n",
       "        7.65186016,  9.02170851,  9.79683741, 11.36089771, 15.19463922,\n",
       "       16.31110564])"
      ]
     },
     "execution_count": 32,
     "metadata": {},
     "output_type": "execute_result"
    }
   ],
   "source": [
    "print(np.sort(x))\n",
    "bins2 = np.append(np.sort(x)[::2],np.max(x))\n",
    "bins2"
   ]
  },
  {
   "cell_type": "code",
   "execution_count": null,
   "metadata": {
    "slideshow": {
     "slide_type": "slide"
    }
   },
   "outputs": [],
   "source": [
    "bins100 = np.append(np.sort(x)[::150], np.max(x)) #Complete\n",
    "bins50 = np.append(np.sort(x)[::50],np.max(x)) #Complete\n",
    "bins25 = np.append(np.sort(x)[::25],np.max(x)) #Complete"
   ]
  },
  {
   "cell_type": "code",
   "execution_count": null,
   "metadata": {
    "slideshow": {
     "slide_type": "slide"
    }
   },
   "outputs": [],
   "source": [
    "__=plt.hist(x, bins=bins100, density=True, histtype=\"step\") #Complete\n",
    "__=plt.hist(x, bins=bins50, density=True, histtype=\"step\") #Complete\n",
    "__=plt.hist(x, bins=bins25, density=True, histtype=\"step\") #Complete"
   ]
  },
  {
   "cell_type": "markdown",
   "metadata": {
    "slideshow": {
     "slide_type": "slide"
    }
   },
   "source": [
    "Again, this can look pretty different depending on what the number of objects you choose as the minimum for each bin and compared to the plots above.  And it looks a lot different from the plots above.\n",
    "\n",
    "So, what is the \"right\" way to set the bin size?\n",
    "\n",
    "There is no \"right\" way, but we'll encounter some suggestions in Chapter 4.  Let's take a quick look at them now."
   ]
  },
  {
   "cell_type": "markdown",
   "metadata": {
    "slideshow": {
     "slide_type": "slide"
    }
   },
   "source": [
    "\"Scott's rule\" suggests that the optimal bin width is \n",
    "$$\\Delta_b = \\frac{3.5\\sigma}{N^{1/3}}.$$\n",
    "\n",
    "That's great, but what if we don't know the standard deviation, $\\sigma$ (e.g., if the distribution isn't really Gaussian)?  We can then instead used the \"Freedman-Diaconis rule\": \n",
    "$$\\Delta_b = \\frac{2(q_{75}-q_{25})}{N^{1/3}} = \\frac{2.7\\sigma_G}{N^{1/3}}.$$  \n",
    "Let's try that, where $\\sigma_G$ is 0.7413 times the difference between the upper and lower quartiles, which you can determine with `np.percentile()`."
   ]
  },
  {
   "cell_type": "code",
   "execution_count": 34,
   "metadata": {
    "slideshow": {
     "slide_type": "slide"
    }
   },
   "outputs": [
    {
     "name": "stdout",
     "output_type": "stream",
     "text": [
      "2.2294464056744534\n"
     ]
    },
    {
     "data": {
      "text/plain": [
       "2.00151"
      ]
     },
     "execution_count": 34,
     "metadata": {},
     "output_type": "execute_result"
    }
   ],
   "source": [
    "#Or better yet\n",
    "q25,q75 = np.percentile(x,[25,75]) #Complete\n",
    "sigmaG = 0.7413*(q75-q25) #Complete\n",
    "print(sigmaG)\n",
    "2.7*.7413"
   ]
  },
  {
   "cell_type": "markdown",
   "metadata": {
    "slideshow": {
     "slide_type": "slide"
    }
   },
   "source": [
    "Compare this to what you get using `stats.sigmaG()` from the astroML package.  You'll have to import stats from astroML and give it a different name since `stats` right now refers to `scipy.stats`."
   ]
  },
  {
   "cell_type": "code",
   "execution_count": 35,
   "metadata": {},
   "outputs": [
    {
     "name": "stdout",
     "output_type": "stream",
     "text": [
      "2.2294497417322847\n"
     ]
    }
   ],
   "source": [
    "from astroML import stats as astroMLstats\n",
    "sigmaG2 = astroMLstats.sigmaG(x)\n",
    "print(sigmaG2)"
   ]
  },
  {
   "cell_type": "markdown",
   "metadata": {
    "slideshow": {
     "slide_type": "slide"
    }
   },
   "source": [
    "Now set the bin size accordingly, using `np.arange()` and plot.  Make sure that you don't throw away the last object in data set!  How many bins do you get?  How does that compare to what we were using above?"
   ]
  },
  {
   "cell_type": "code",
   "execution_count": 36,
   "metadata": {
    "slideshow": {
     "slide_type": "slide"
    }
   },
   "outputs": [
    {
     "name": "stdout",
     "output_type": "stream",
     "text": [
      "2.2176080297579013\n",
      "7\n",
      "[ 4.13880094  6.35640897  8.574017   10.79162503 13.00923306 15.22684109\n",
      " 16.31110564]\n"
     ]
    }
   ],
   "source": [
    "binsize = 2.7*sigmaG2/(N**(1/3.)) #Complete\n",
    "print(binsize)\n",
    "bins = np.append(np.arange(start=x.min(),stop=x.max(),step=binsize),x.max()) #Complete\n",
    "print(len(bins))\n",
    "print(bins)"
   ]
  },
  {
   "cell_type": "code",
   "execution_count": 38,
   "metadata": {
    "slideshow": {
     "slide_type": "slide"
    }
   },
   "outputs": [
    {
     "data": {
      "text/plain": [
       "(array([0.06764045, 0.20292134, 0.09018726, 0.04509363, 0.02254682,\n",
       "        0.04611421]),\n",
       " array([ 4.13880094,  6.35640897,  8.574017  , 10.79162503, 13.00923306,\n",
       "        15.22684109, 16.31110564]),\n",
       " <a list of 1 Patch objects>)"
      ]
     },
     "execution_count": 38,
     "metadata": {},
     "output_type": "execute_result"
    },
    {
     "data": {
      "image/png": "[encoded data removed]",
      "text/plain": [
       "<Figure size 432x288 with 1 Axes>"
      ]
     },
     "metadata": {
      "needs_background": "light"
     },
     "output_type": "display_data"
    }
   ],
   "source": [
    "plt.hist(x,histtype='step',bins=bins,density=True) #Complete   "
   ]
  },
  {
   "cell_type": "markdown",
   "metadata": {
    "slideshow": {
     "slide_type": "slide"
    }
   },
   "source": [
    "Did you find that tedious?  Me too.  Fortunately there is a shortcut!  Try it."
   ]
  },
  {
   "cell_type": "code",
   "execution_count": 39,
   "metadata": {
    "slideshow": {
     "slide_type": "slide"
    }
   },
   "outputs": [
    {
     "data": {
      "text/plain": [
       "(array([3., 9., 4., 1., 1., 2.]),\n",
       " array([ 4.13880094,  6.28962246,  8.44044397, 10.59126548, 12.742087  ,\n",
       "        14.89290851, 17.04373002]),\n",
       " <a list of 1 Patch objects>)"
      ]
     },
     "execution_count": 39,
     "metadata": {},
     "output_type": "execute_result"
    },
    {
     "data": {
      "image/png": "[encoded data removed]",
      "text/plain": [
       "<Figure size 432x288 with 1 Axes>"
      ]
     },
     "metadata": {
      "needs_background": "light"
     },
     "output_type": "display_data"
    }
   ],
   "source": [
    "from astroML.plotting import hist as fancyhist\n",
    "fancyhist(x, bins=\"scott\", histtype=\"step\")\n",
    "fancyhist(x, bins=\"freedman\", histtype=\"step\")"
   ]
  },
  {
   "cell_type": "markdown",
   "metadata": {
    "slideshow": {
     "slide_type": "slide"
    }
   },
   "source": [
    "But note that even those don't yield quite the same results!  But we can do better!\n",
    "\n",
    "An obvious thing to do is to simply show all of the data."
   ]
  },
  {
   "cell_type": "code",
   "execution_count": 42,
   "metadata": {
    "slideshow": {
     "slide_type": "slide"
    }
   },
   "outputs": [
    {
     "data": {
      "text/plain": [
       "[<matplotlib.lines.Line2D at 0x7fdbd0f76e80>]"
      ]
     },
     "execution_count": 42,
     "metadata": {},
     "output_type": "execute_result"
    },
    {
     "data": {
      "image/png": "[encoded data removed]",
      "text/plain": [
       "<Figure size 432x288 with 1 Axes>"
      ]
     },
     "metadata": {
      "needs_background": "light"
     },
     "output_type": "display_data"
    }
   ],
   "source": [
    "# execute this cell\n",
    "plt.hist(x,histtype=\"step\")\n",
    "plt.plot(x, 0*x, '|', color='k', markersize=25) #Note markersize is (annoyingly) in *points*"
   ]
  },
  {
   "cell_type": "markdown",
   "metadata": {
    "slideshow": {
     "slide_type": "slide"
    }
   },
   "source": [
    "This is called a rug plot and now we have a better idea of where most of the data and where the gaps really are (as opposed to where the binning makes them *appear* to be).  However, the markers are all piled up, so we have lost all sense of the relative numbers of objects.  Are there ~10 at x=5 or could there be 100?\n",
    "\n",
    "This is where [Kernel Density Estimation](https://en.wikipedia.org/wiki/Kernel_density_estimation) (KDE) comes in.  (As a side note, KDE is the core of the quasar classification work that I do, which is how I got into this machine learning business in the first place.  Way before it was popular I might add!)  In short the idea here is to represent each data point not as a delta function, but rather as a distribution (e.g., a Gaussian).  Then those distributions (\"kernels\") are summed up to produce the PDF.  One of the advantages of this is that it combines the best of 1) the histogram and 2) the rug plot: where 1) tells us the relative height of the distribution and 2) centers the data points at the actual location of the data instead of within some arbitrary bin.\n",
    "\n",
    "Just about any distribution can be used as the kernel, but the most common are a Gaussian kernal and an Epanechnikov kernel.  One downside of the Gaussian kernel is that the tails are technically infinite in extent.  So each point has some finite probability of being *everywhere*.  The Epanechnikov kernel has truncated wings.  \n",
    "\n",
    "One still has the problem of deciding the width of the kernel (e.g., for the Gaussian the \"mean\" is fixed at the value of the point, but how wide should you make the Gaussian?).  For my work, we do this with a self-test of the data.  Specifically, what is the optimal width such that objects with a known classification are indeed given that classification by our machine learning algorithm.  But that is the topic for another day.  For now, we'll just play with the widths by hand to see what might work best.  N.B. the widths of the kernel distribution are referred to as \"bandwidth\"."
   ]
  },
  {
   "cell_type": "code",
   "execution_count": 43,
   "metadata": {
    "slideshow": {
     "slide_type": "slide"
    }
   },
   "outputs": [],
   "source": [
    "# execute this cell to load the KDE module\n",
    "# No need to try to understand what is going on here now, we'll come back to this later.\n",
    "# But see the note below\n",
    "from sklearn.neighbors import KernelDensity\n",
    "xplot = np.linspace(x.min(),x.max(),1000)  # Use this instead of 'x' for plotting\n",
    "def kde_sklearn(data, bandwidth = 1.0, kernel=\"linear\"):\n",
    "    kde_skl = KernelDensity(bandwidth = bandwidth, kernel=kernel)\n",
    "    kde_skl.fit(data[:, np.newaxis])\n",
    "    log_pdf = kde_skl.score_samples(xplot[:, np.newaxis]) # sklearn returns log(density)\n",
    "\n",
    "    return np.exp(log_pdf)"
   ]
  },
  {
   "cell_type": "markdown",
   "metadata": {
    "slideshow": {
     "slide_type": "slide"
    }
   },
   "source": [
    "Before we try the Gaussian and Epanechnikov kernels, let's first start with a tophat using `kernel = \"tophat\"`, which will produce a plot much like the rug plot.\n",
    "\n",
    "Start with `bandwidth=0.01`.  See what happens when you adjust this."
   ]
  },
  {
   "cell_type": "code",
   "execution_count": 52,
   "metadata": {
    "slideshow": {
     "slide_type": "slide"
    }
   },
   "outputs": [
    {
     "name": "stdout",
     "output_type": "stream",
     "text": [
      "[0.06875 0.06875 0.06875 0.06875 0.06875 0.06875 0.06875 0.06875 0.06875\n",
      " 0.06875 0.06875 0.06875 0.06875 0.06875 0.06875 0.06875 0.06875 0.06875\n",
      " 0.06875 0.06875 0.06875 0.06875 0.06875 0.075   0.075   0.075   0.075\n",
      " 0.075   0.075   0.075   0.075   0.075   0.075   0.075   0.075   0.075\n",
      " 0.075   0.075   0.075   0.075   0.075   0.075   0.075   0.075   0.075\n",
      " 0.075   0.075   0.075   0.075   0.075   0.075   0.075   0.075   0.075\n",
      " 0.075   0.075   0.075   0.075   0.075   0.075   0.075   0.075   0.075\n",
      " 0.075   0.075   0.075   0.075   0.075   0.075   0.075   0.075   0.075\n",
      " 0.075   0.08125 0.08125 0.08125 0.08125 0.08125 0.08125 0.08125 0.08125\n",
      " 0.08125 0.08125 0.08125 0.08125 0.08125 0.08125 0.08125 0.08125 0.08125\n",
      " 0.08125 0.08125 0.08125 0.08125 0.08125 0.08125 0.08125 0.08125 0.08125\n",
      " 0.08125 0.08125 0.08125 0.08125 0.08125 0.08125 0.08125 0.0875  0.0875\n",
      " 0.0875  0.0875  0.0875  0.0875  0.0875  0.0875  0.0875  0.0875  0.0875\n",
      " 0.0875  0.0875  0.0875  0.0875  0.0875  0.0875  0.0875  0.0875  0.0875\n",
      " 0.0875  0.0875  0.0875  0.0875  0.0875  0.0875  0.0875  0.0875  0.0875\n",
      " 0.0875  0.0875  0.09375 0.09375 0.09375 0.09375 0.09375 0.09375 0.09375\n",
      " 0.09375 0.09375 0.09375 0.09375 0.09375 0.09375 0.09375 0.09375 0.09375\n",
      " 0.09375 0.09375 0.09375 0.09375 0.09375 0.09375 0.09375 0.09375 0.09375\n",
      " 0.09375 0.09375 0.09375 0.09375 0.09375 0.09375 0.09375 0.09375 0.09375\n",
      " 0.1     0.1     0.1     0.1     0.1     0.1     0.1     0.1     0.1\n",
      " 0.1     0.1     0.1     0.1     0.1     0.1     0.1     0.1     0.1\n",
      " 0.1     0.1     0.1     0.1     0.1     0.1     0.1     0.1     0.1\n",
      " 0.1     0.1     0.1     0.1     0.1     0.1     0.1     0.1     0.1\n",
      " 0.1     0.1     0.1     0.1     0.1     0.1     0.1     0.1     0.1\n",
      " 0.1     0.1     0.1     0.1     0.1     0.1     0.1     0.1     0.1\n",
      " 0.1     0.1     0.1     0.1     0.1     0.1     0.1     0.1     0.1\n",
      " 0.1     0.1     0.1     0.1     0.1     0.1     0.1     0.1     0.1\n",
      " 0.1     0.1     0.1     0.1     0.1     0.1     0.1     0.1     0.1\n",
      " 0.1     0.1     0.1     0.1     0.1     0.1     0.1     0.1     0.1\n",
      " 0.1     0.1     0.1     0.1     0.10625 0.10625 0.10625 0.10625 0.10625\n",
      " 0.10625 0.10625 0.10625 0.10625 0.10625 0.10625 0.10625 0.10625 0.10625\n",
      " 0.10625 0.10625 0.10625 0.10625 0.10625 0.10625 0.10625 0.10625 0.10625\n",
      " 0.10625 0.10625 0.10625 0.10625 0.10625 0.10625 0.10625 0.10625 0.10625\n",
      " 0.10625 0.10625 0.10625 0.10625 0.10625 0.10625 0.10625 0.10625 0.10625\n",
      " 0.10625 0.10625 0.10625 0.10625 0.10625 0.10625 0.10625 0.10625 0.10625\n",
      " 0.10625 0.10625 0.10625 0.10625 0.10625 0.10625 0.10625 0.10625 0.10625\n",
      " 0.10625 0.10625 0.10625 0.10625 0.10625 0.1     0.1     0.1     0.1\n",
      " 0.1     0.1     0.1     0.1     0.1     0.1     0.1     0.1     0.1\n",
      " 0.1     0.1     0.1     0.1     0.1     0.1     0.1     0.1     0.1\n",
      " 0.1     0.1     0.1     0.1     0.1     0.1     0.1     0.1     0.1\n",
      " 0.1     0.1     0.1     0.1     0.1     0.1     0.1     0.1     0.1\n",
      " 0.1     0.1     0.1     0.1     0.1     0.1     0.1     0.1     0.1\n",
      " 0.1     0.1     0.1     0.1     0.1     0.1     0.1     0.1     0.1\n",
      " 0.1     0.10625 0.10625 0.10625 0.10625 0.10625 0.10625 0.10625 0.10625\n",
      " 0.10625 0.10625 0.10625 0.10625 0.10625 0.10625 0.10625 0.10625 0.10625\n",
      " 0.10625 0.10625 0.10625 0.10625 0.10625 0.10625 0.10625 0.1     0.1\n",
      " 0.1     0.1     0.1     0.1     0.1     0.1     0.1     0.1     0.1\n",
      " 0.1     0.1     0.1     0.1     0.1     0.1     0.1     0.1     0.1\n",
      " 0.1     0.1     0.1     0.1     0.1     0.1     0.1     0.1     0.1\n",
      " 0.1     0.1     0.1     0.1     0.1     0.1     0.1     0.1     0.1\n",
      " 0.1     0.1     0.1     0.1     0.1     0.1     0.1     0.1     0.1\n",
      " 0.1     0.1     0.1     0.1     0.1     0.1     0.09375 0.09375 0.09375\n",
      " 0.09375 0.09375 0.09375 0.09375 0.09375 0.09375 0.09375 0.09375 0.09375\n",
      " 0.09375 0.09375 0.09375 0.09375 0.09375 0.09375 0.09375 0.09375 0.09375\n",
      " 0.09375 0.09375 0.09375 0.09375 0.09375 0.09375 0.09375 0.09375 0.09375\n",
      " 0.09375 0.09375 0.09375 0.09375 0.09375 0.09375 0.09375 0.09375 0.09375\n",
      " 0.09375 0.09375 0.09375 0.09375 0.09375 0.09375 0.09375 0.09375 0.09375\n",
      " 0.09375 0.09375 0.09375 0.09375 0.09375 0.09375 0.09375 0.09375 0.09375\n",
      " 0.09375 0.09375 0.09375 0.09375 0.09375 0.09375 0.09375 0.09375 0.09375\n",
      " 0.09375 0.09375 0.09375 0.09375 0.09375 0.09375 0.09375 0.09375 0.09375\n",
      " 0.09375 0.09375 0.09375 0.09375 0.09375 0.09375 0.09375 0.09375 0.0875\n",
      " 0.0875  0.0875  0.0875  0.0875  0.0875  0.08125 0.075   0.075   0.075\n",
      " 0.075   0.075   0.075   0.075   0.075   0.075   0.075   0.075   0.075\n",
      " 0.06875 0.06875 0.0625  0.0625  0.0625  0.0625  0.0625  0.0625  0.0625\n",
      " 0.0625  0.05625 0.05625 0.05625 0.0625  0.0625  0.0625  0.0625  0.05625\n",
      " 0.05625 0.05625 0.05625 0.05625 0.05625 0.05625 0.05625 0.05625 0.05625\n",
      " 0.05625 0.05625 0.05625 0.05625 0.05625 0.05625 0.05625 0.05625 0.05625\n",
      " 0.05625 0.05625 0.05625 0.05625 0.05625 0.05625 0.05625 0.05625 0.05625\n",
      " 0.05625 0.05625 0.05625 0.05625 0.05625 0.05    0.05    0.05    0.05\n",
      " 0.05    0.05    0.05    0.05    0.05    0.05    0.05    0.05    0.05\n",
      " 0.05    0.05    0.05    0.05    0.05    0.05    0.05    0.05    0.05\n",
      " 0.05    0.05    0.05    0.05    0.05    0.05    0.05    0.05    0.05\n",
      " 0.05    0.05    0.05    0.05    0.05    0.05    0.05    0.05    0.05\n",
      " 0.05    0.05    0.05    0.05    0.05    0.05    0.05    0.05    0.05\n",
      " 0.05    0.05    0.05    0.05    0.05    0.05625 0.05625 0.05625 0.05625\n",
      " 0.05625 0.05625 0.05625 0.05625 0.05625 0.05    0.05    0.05    0.05\n",
      " 0.05    0.05    0.05    0.05    0.05    0.05    0.05    0.05    0.05\n",
      " 0.05    0.05    0.05    0.05    0.05    0.05    0.05    0.05    0.05\n",
      " 0.05    0.05    0.05    0.05    0.05    0.05    0.05    0.05    0.05\n",
      " 0.05    0.05    0.05    0.05    0.05    0.05    0.05    0.05    0.05\n",
      " 0.05    0.05    0.05    0.05    0.05    0.05    0.05    0.05    0.05\n",
      " 0.05    0.04375 0.04375 0.04375 0.04375 0.04375 0.04375 0.04375 0.04375\n",
      " 0.04375 0.04375 0.04375 0.04375 0.04375 0.04375 0.04375 0.04375 0.04375\n",
      " 0.04375 0.04375 0.04375 0.04375 0.04375 0.04375 0.04375 0.04375 0.04375\n",
      " 0.04375 0.04375 0.04375 0.04375 0.04375 0.04375 0.0375  0.0375  0.0375\n",
      " 0.0375  0.0375  0.0375  0.0375  0.0375  0.0375  0.0375  0.0375  0.0375\n",
      " 0.0375  0.0375  0.0375  0.0375  0.0375  0.0375  0.0375  0.0375  0.0375\n",
      " 0.0375  0.0375  0.0375  0.0375  0.0375  0.0375  0.0375  0.0375  0.0375\n",
      " 0.0375  0.03125 0.03125 0.03125 0.03125 0.03125 0.03125 0.03125 0.03125\n",
      " 0.03125 0.03125 0.03125 0.03125 0.03125 0.03125 0.03125 0.03125 0.03125\n",
      " 0.03125 0.03125 0.03125 0.03125 0.03125 0.03125 0.03125 0.03125 0.03125\n",
      " 0.03125 0.03125 0.03125 0.03125 0.03125 0.03125 0.03125 0.03125 0.03125\n",
      " 0.025   0.025   0.025   0.025   0.025   0.025   0.025   0.025   0.025\n",
      " 0.025   0.025   0.025   0.025   0.025   0.025   0.025   0.025   0.025\n",
      " 0.025   0.025   0.025   0.025   0.025   0.025   0.025   0.025   0.025\n",
      " 0.025   0.025   0.025   0.025   0.025   0.025   0.025   0.025   0.025\n",
      " 0.025   0.025   0.025   0.025   0.025   0.025   0.025   0.025   0.025\n",
      " 0.025   0.025   0.025   0.025   0.025   0.025   0.025   0.025   0.025\n",
      " 0.025   0.025   0.025   0.025   0.025   0.025   0.025   0.025   0.025\n",
      " 0.025   0.025   0.025   0.025   0.025   0.025   0.025   0.025   0.025\n",
      " 0.025   0.025   0.025   0.025   0.025   0.025   0.025   0.025   0.025\n",
      " 0.025   0.025   0.025   0.025   0.025   0.025   0.025   0.025   0.025\n",
      " 0.025   0.025   0.025   0.025   0.01875 0.01875 0.01875 0.01875 0.01875\n",
      " 0.01875 0.01875 0.01875 0.01875 0.01875 0.01875 0.01875 0.01875 0.01875\n",
      " 0.01875 0.01875 0.01875 0.01875 0.01875 0.01875 0.01875 0.01875 0.01875\n",
      " 0.01875 0.01875 0.01875 0.01875 0.01875 0.01875 0.01875 0.01875 0.01875\n",
      " 0.01875 0.01875 0.01875 0.01875 0.01875 0.01875 0.01875 0.01875 0.01875\n",
      " 0.01875 0.01875 0.01875 0.01875 0.01875 0.01875 0.01875 0.01875 0.01875\n",
      " 0.01875 0.01875 0.01875 0.01875 0.01875 0.01875 0.01875 0.01875 0.01875\n",
      " 0.01875 0.01875 0.01875 0.01875 0.01875 0.01875 0.01875 0.01875 0.01875\n",
      " 0.01875 0.01875 0.01875 0.01875 0.01875 0.01875 0.01875 0.01875 0.01875\n",
      " 0.01875]\n"
     ]
    },
    {
     "data": {
      "text/plain": [
       "[<matplotlib.lines.Line2D at 0x7fdbd0d1d6a0>]"
      ]
     },
     "execution_count": 52,
     "metadata": {},
     "output_type": "execute_result"
    },
    {
     "data": {
      "image/png": "[encoded data removed]",
      "text/plain": [
       "<Figure size 432x288 with 1 Axes>"
      ]
     },
     "metadata": {
      "needs_background": "light"
     },
     "output_type": "display_data"
    }
   ],
   "source": [
    "PDFtophat = kde_sklearn(x,bandwidth=4,kernel='tophat') #Complete\n",
    "print(PDFtophat)\n",
    "plt.plot(xplot,PDFtophat) #Complete"
   ]
  },
  {
   "cell_type": "markdown",
   "metadata": {
    "slideshow": {
     "slide_type": "slide"
    }
   },
   "source": [
    "The defaults give a result that is essentially what you would get if you made a histogram with a really large number of bins.\n",
    "\n",
    "Now let's compare what happens when we adjust the bandwidth (which is just the width of the kernel function).  Try \n",
    "`bandwidth=0.1` and `bandwidth=0.5`."
   ]
  },
  {
   "cell_type": "code",
   "execution_count": 49,
   "metadata": {
    "slideshow": {
     "slide_type": "slide"
    }
   },
   "outputs": [
    {
     "data": {
      "text/plain": [
       "<matplotlib.legend.Legend at 0x7fdbd7528dd8>"
      ]
     },
     "execution_count": 49,
     "metadata": {},
     "output_type": "execute_result"
    },
    {
     "data": {
      "image/png": "[encoded data removed]",
      "text/plain": [
       "<Figure size 432x288 with 1 Axes>"
      ]
     },
     "metadata": {
      "needs_background": "light"
     },
     "output_type": "display_data"
    }
   ],
   "source": [
    "PDFtophat1 = kde_sklearn(x,bandwidth=0.1,kernel='tophat') #Complete\n",
    "plt.plot(xplot,PDFtophat1,label='width={}'.format(0.1)) #Complete\n",
    "\n",
    "\n",
    "PDFtophat1 = kde_sklearn(x,bandwidth=0.5,kernel='tophat') #Complete\n",
    "plt.plot(xplot,PDFtophat1,label='width={}'.format(0.5)) #Complete\n",
    "\n",
    "    \n",
    "plt.legend(loc=\"upper left\")"
   ]
  },
  {
   "cell_type": "markdown",
   "metadata": {
    "slideshow": {
     "slide_type": "slide"
    }
   },
   "source": [
    "Now let's see what we get with the Gaussian `kernel=\"gaussian\"` and Epanechnikov `kernel=\"epanechnikov\"` kernels.  Play with the bandwidths until you get something that looks reasonable (and roughly matches) for the two kernels.  They need not be the same."
   ]
  },
  {
   "cell_type": "code",
   "execution_count": 50,
   "metadata": {
    "slideshow": {
     "slide_type": "slide"
    }
   },
   "outputs": [
    {
     "data": {
      "text/plain": [
       "<matplotlib.legend.Legend at 0x7fdbd0d8ab70>"
      ]
     },
     "execution_count": 50,
     "metadata": {},
     "output_type": "execute_result"
    },
    {
     "data": {
      "image/png": "[encoded data removed]",
      "text/plain": [
       "<Figure size 1440x720 with 1 Axes>"
      ]
     },
     "metadata": {
      "needs_background": "light"
     },
     "output_type": "display_data"
    }
   ],
   "source": [
    "plt.figure(figsize=(20,10))\n",
    "PDFgaussian = kde_sklearn(x,bandwidth=.1,kernel=\"gaussian\") #Complete \n",
    "PDFepanechnikov = kde_sklearn(x,bandwidth=0.1,kernel='epanechnikov') #Complete plt.plot(xplot,PDFgaussian,label=\"gaussian width=1\") #Complete\n",
    "plt.plot(xplot,PDFepanechnikov,label=\"epanechnikov width=.2\") #Complete\n",
    "plt.xlim((4,16))\n",
    "plt.legend(loc='upper right') #Complete"
   ]
  },
  {
   "cell_type": "markdown",
   "metadata": {
    "slideshow": {
     "slide_type": "slide"
    }
   },
   "source": [
    "This is pretty different from the histogram that we started out with, isn't it?"
   ]
  },
  {
   "cell_type": "markdown",
   "metadata": {
    "slideshow": {
     "slide_type": "slide"
    }
   },
   "source": [
    "Lastly, we have used 1000 points, so you aren't seeing the kernel shape for the individual points.  Try remaking $x$ with only `N=15` points and see what this looks like.  Adjust the figure size (using `figsize`), the bandwidth and the axis limits until you can see the differences between the two kernels.  Play with the bandwidths to see what affect they have now that you can see the individual kernels."
   ]
  },
  {
   "cell_type": "code",
   "execution_count": null,
   "metadata": {
    "slideshow": {
     "slide_type": "slide"
    }
   },
   "outputs": [],
   "source": [
    "#Redefine \"x\" using the code from the cell above and N=15"
   ]
  },
  {
   "cell_type": "code",
   "execution_count": null,
   "metadata": {
    "slideshow": {
     "slide_type": "slide"
    }
   },
   "outputs": [],
   "source": [
    "#Make a plot that illustrates the shape of the kernel\n",
    "plt.figure(figsize=(____,____)) #Complete\n",
    "PDFgaussian = kde_sklearn(_____,_____,_____) #Complete\n",
    "PDFepanechnikov = ____(_____,_____,_____) #Complete\n",
    "plt.plot(xplot,PDFgaussian,label=\"___\") #Complete\n",
    "plt.plot(____,____,____) #Complete\n",
    "plt.legend(____) #Complete\n",
    "plt.xlim((____,____)) #Complete"
   ]
  }
 ],
 "metadata": {
  "anaconda-cloud": {},
  "celltoolbar": "Slideshow",
  "kernelspec": {
   "display_name": "Python 3",
   "language": "python",
   "name": "python3"
  },
  "language_info": {
   "codemirror_mode": {
    "name": "ipython",
    "version": 3
   },
   "file_extension": ".py",
   "mimetype": "text/x-python",
   "name": "python",
   "nbconvert_exporter": "python",
   "pygments_lexer": "ipython3",
   "version": "3.7.0"
  }
 },
 "nbformat": 4,
 "nbformat_minor": 1
}
